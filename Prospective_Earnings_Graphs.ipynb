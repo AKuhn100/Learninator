{
 "cells": [
  {
   "cell_type": "code",
   "execution_count": 25,
   "id": "69547888-db50-4f98-82ed-c6b7a919c402",
   "metadata": {},
   "outputs": [],
   "source": [
    "import numpy as np"
   ]
  },
  {
   "cell_type": "code",
   "execution_count": 69,
   "id": "06ca9560-221e-40b3-b2c0-d84422b7efde",
   "metadata": {},
   "outputs": [],
   "source": [
    "import matplotlib.pyplot as plt"
   ]
  },
  {
   "cell_type": "code",
   "execution_count": 14,
   "id": "f525bd2c-168a-4d45-934c-4e1f78f94349",
   "metadata": {},
   "outputs": [],
   "source": [
    "# Pottery Analogy: Class is like a design for a mug, say. An object is an instance of the class, i.e. a specific mug. \n",
    "# sumIncome is a property of an object which is a career path.  \n",
    "class CareerPath:\n",
    "    def __init__(self):\n",
    "        self.sumIncome = 0\n",
    "    def sayHello(self):\n",
    "        print(\"sayHelloAdam\")\n",
    "    "
   ]
  },
  {
   "cell_type": "code",
   "execution_count": 15,
   "id": "3a6375d8-764e-489e-bb64-9a9015bc87a8",
   "metadata": {},
   "outputs": [],
   "source": [
    "industry = CareerPath()"
   ]
  },
  {
   "cell_type": "code",
   "execution_count": 16,
   "id": "4beff4be-1e00-4ba9-9413-cacb9fb9d7b1",
   "metadata": {},
   "outputs": [
    {
     "data": {
      "text/plain": [
       "0"
      ]
     },
     "execution_count": 16,
     "metadata": {},
     "output_type": "execute_result"
    }
   ],
   "source": [
    "industry.sumIncome"
   ]
  },
  {
   "cell_type": "code",
   "execution_count": 19,
   "id": "ded5f142-ce08-4d8d-ad1c-71089476eae5",
   "metadata": {},
   "outputs": [
    {
     "name": "stdout",
     "output_type": "stream",
     "text": [
      "sayHelloAdam\n"
     ]
    }
   ],
   "source": [
    "industry.sayHello()"
   ]
  },
  {
   "cell_type": "code",
   "execution_count": 62,
   "id": "d7b23f32-bbdc-46ec-a8aa-1a602566c85a",
   "metadata": {},
   "outputs": [],
   "source": [
    "time = [0,1,2,3,4,5,6,7,8,9,10,11,12,13,14,15,16,17,18,19,20]"
   ]
  },
  {
   "cell_type": "code",
   "execution_count": 63,
   "id": "4c98d7e9-5a11-436e-bc80-283ef7fde3a7",
   "metadata": {},
   "outputs": [],
   "source": [
    "#time*60000\n",
    "dollars = np.multiply(60000,time)"
   ]
  },
  {
   "cell_type": "code",
   "execution_count": 64,
   "id": "37343581-e11f-42d6-8ff3-6822c8742631",
   "metadata": {},
   "outputs": [
    {
     "data": {
      "text/plain": [
       "21"
      ]
     },
     "execution_count": 64,
     "metadata": {},
     "output_type": "execute_result"
    }
   ],
   "source": [
    "dollars.shape[0]"
   ]
  },
  {
   "cell_type": "code",
   "execution_count": 65,
   "id": "8155e4bd-7192-4d61-a6cf-99cd0429e7f1",
   "metadata": {},
   "outputs": [
    {
     "data": {
      "text/plain": [
       "21"
      ]
     },
     "execution_count": 65,
     "metadata": {},
     "output_type": "execute_result"
    }
   ],
   "source": [
    "len(time)"
   ]
  },
  {
   "cell_type": "code",
   "execution_count": 70,
   "id": "2dcaeab6-f304-43aa-90e6-e0fb920fe30f",
   "metadata": {
    "scrolled": true
   },
   "outputs": [
    {
     "name": "stdout",
     "output_type": "stream",
     "text": [
      "Same size\n"
     ]
    },
    {
     "data": {
      "image/png": "[encoded data removed]",
      "text/plain": [
       "<Figure size 640x480 with 1 Axes>"
      ]
     },
     "metadata": {},
     "output_type": "display_data"
    }
   ],
   "source": [
    "#From Matplotlib Website\n",
    "if(dollars.shape[0]==len(time)):\n",
    "    print(\"Same size\")\n",
    "    fig, ax = plt.subplots()\n",
    "    ax.plot(time, dollars)\n",
    "    plt.show()\n",
    "else:\n",
    "    print(\"Diff size\")"
   ]
  },
  {
   "cell_type": "code",
   "execution_count": null,
   "id": "aaec1555-cf70-4895-ad9a-f41d81d10728",
   "metadata": {},
   "outputs": [],
   "source": [
    "#Sam's Way\n",
    "if(dollars.shape[0]==len(time)):\n",
    "    print(\"Same size\")\n",
    "   \n",
    "else:\n",
    "    print(\"Diff size\")"
   ]
  }
 ],
 "metadata": {
  "kernelspec": {
   "display_name": "Python 3 (ipykernel)",
   "language": "python",
   "name": "python3"
  },
  "language_info": {
   "codemirror_mode": {
    "name": "ipython",
    "version": 3
   },
   "file_extension": ".py",
   "mimetype": "text/x-python",
   "name": "python",
   "nbconvert_exporter": "python",
   "pygments_lexer": "ipython3",
   "version": "3.11.4"
  }
 },
 "nbformat": 4,
 "nbformat_minor": 5
}
