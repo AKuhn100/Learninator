{
 "cells": [
  {
   "cell_type": "code",
   "execution_count": 2,
   "id": "ae7c58f2-e0b6-40a9-8017-e1173f0ccb86",
   "metadata": {},
   "outputs": [],
   "source": [
    "import numpy as np"
   ]
  },
  {
   "cell_type": "code",
   "execution_count": 10,
   "id": "f35ccddf-ddbf-4243-b35c-8f40808e51d1",
   "metadata": {},
   "outputs": [
    {
     "name": "stdout",
     "output_type": "stream",
     "text": [
      "<class 'numpy.ndarray'>\n",
      "<class 'list'>\n",
      "[[1, 2, 3], [2, 2, 2]]\n"
     ]
    }
   ],
   "source": [
    "x=[1,2,3]\n",
    "y=[2,2,2]\n",
    "j=[x,y]\n",
    "i=np.multiply(x,y)\n",
    "print(type(i))\n",
    "print(type(x))\n",
    "print(j)"
   ]
  }
 ],
 "metadata": {
  "kernelspec": {
   "display_name": "Python 3 (ipykernel)",
   "language": "python",
   "name": "python3"
  },
  "language_info": {
   "codemirror_mode": {
    "name": "ipython",
    "version": 3
   },
   "file_extension": ".py",
   "mimetype": "text/x-python",
   "name": "python",
   "nbconvert_exporter": "python",
   "pygments_lexer": "ipython3",
   "version": "3.11.4"
  }
 },
 "nbformat": 4,
 "nbformat_minor": 5
}
